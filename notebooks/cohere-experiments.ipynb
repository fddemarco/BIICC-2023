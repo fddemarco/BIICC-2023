{
 "cells": [
  {
   "cell_type": "markdown",
   "id": "5bc6e1a0-9886-4eea-8fe3-242834669b6d",
   "metadata": {},
   "source": [
    "# Configuramos variables de ambiente"
   ]
  },
  {
   "cell_type": "code",
   "execution_count": null,
   "id": "0cefd7b2-b3b0-4240-a6de-3f1e97daba6d",
   "metadata": {},
   "outputs": [],
   "source": [
    "import dotenv\n",
    "\n",
    "config = dotenv.dotenv_values(\".env\")"
   ]
  },
  {
   "cell_type": "code",
   "execution_count": null,
   "id": "6405fce7-71c2-4ceb-9213-1e1e37a90475",
   "metadata": {},
   "outputs": [],
   "source": [
    "api_key = config['API_KEY']\n",
    "embeddings_pathname = config['EMBEDDINGS_PATH']"
   ]
  },
  {
   "cell_type": "markdown",
   "id": "4a80fec5-d0a5-46bc-b3ed-8074e89ac669",
   "metadata": {},
   "source": [
    "## Experimento: Usar textos propios para generar embeddings"
   ]
  },
  {
   "cell_type": "markdown",
   "id": "a279e1a2-1faf-44ec-b01c-590b3118a1ec",
   "metadata": {},
   "source": [
    "### Generar textos"
   ]
  },
  {
   "cell_type": "code",
   "execution_count": null,
   "id": "a9a1156d-3a87-488b-89fb-5fa413133e24",
   "metadata": {},
   "outputs": [],
   "source": [
    "# https://www.diffen.com/difference/Democrat_vs_Republican"
   ]
  },
  {
   "cell_type": "code",
   "execution_count": null,
   "id": "234589ff-e4be-4cc1-823b-90edded4610c",
   "metadata": {},
   "outputs": [],
   "source": [
    "import pandas as pd\n",
    "comparison = pd.read_csv('comparison_chart.csv')\n",
    "comparison.head()"
   ]
  },
  {
   "cell_type": "code",
   "execution_count": null,
   "id": "74d6f0e4-e399-484f-8f4b-8242735bec12",
   "metadata": {},
   "outputs": [],
   "source": [
    "def generate_prompts(data):\n",
    "    data['democrats-prompts'] = 'Write a reddit submission of no more than 10k chars about: ' + data.Topics + '. You should be taking the following stance: ' + data.Democrats\n",
    "    data['republicans-prompts'] = 'Write a reddit submission of no more than 10k chars about: ' + data.Topics + '. You should be taking taking the following stance: ' + data.Republicans\n",
    "    return data"
   ]
  },
  {
   "cell_type": "code",
   "execution_count": null,
   "id": "89529e79-a16a-4ec5-b23f-4020db031704",
   "metadata": {},
   "outputs": [],
   "source": [
    "data = generate_prompts(comparison)"
   ]
  },
  {
   "cell_type": "code",
   "execution_count": null,
   "id": "7a219497-e0f3-4f9e-9f33-78812416af2d",
   "metadata": {},
   "outputs": [],
   "source": [
    "import cohere\n",
    "import time\n",
    "\n",
    "def generate_text(prompts):\n",
    "    generations = []\n",
    "    for prompt in prompts:\n",
    "        co = cohere.Client(api_key)\n",
    "        response = co.generate(\n",
    "          model='command',\n",
    "          prompt=f'\\'{prompt}\\'',\n",
    "          max_tokens=300,\n",
    "          temperature=0.9,\n",
    "          k=0,\n",
    "          stop_sequences=[],\n",
    "          return_likelihoods='NONE')\n",
    "        \n",
    "        generations.append(response.generations[0].text)\n",
    "        time.sleep(62)\n",
    "\n",
    "    return generations"
   ]
  },
  {
   "cell_type": "code",
   "execution_count": null,
   "id": "3d223e3c-7816-4b99-8c1b-faa915935cf1",
   "metadata": {},
   "outputs": [],
   "source": [
    "democrats_generations = generate_text(data['democrats-prompts')\n",
    "republicans_generations = generate_text(data['republicans-prompts')\n",
    "\n",
    "df = pd.DataFrame({'democrats-prompts': data['democrats-prompts'], \n",
    "                  'republicans-prompts': data['republicans-prompts'],\n",
    "                  'democrats-generations': democrats_generations,\n",
    "                   'republicans-generations': republicans_generations,\n",
    "                   'topic': comparison.Topics\n",
    "                  })\n",
    "df.head()"
   ]
  },
  {
   "cell_type": "code",
   "execution_count": null,
   "id": "e6c0c45a-f09b-4606-a94d-4e9b01d41a51",
   "metadata": {},
   "outputs": [],
   "source": [
    "def clean_text(df, column):\n",
    "    df[column] = df[column].str.replace('\\n', ' ').str.replace('\\r', ' ').str.strip()\n",
    "clean_text(df,'democrats-generations')     \n",
    "clean_text(df,'republicans-generations')"
   ]
  },
  {
   "cell_type": "code",
   "execution_count": null,
   "id": "cbbfd74b-c586-4040-a0e9-3380b762554d",
   "metadata": {},
   "outputs": [],
   "source": [
    "df.head()"
   ]
  },
  {
   "cell_type": "code",
   "execution_count": null,
   "id": "2fc58a82-fdf9-48ee-90da-71d5fbb91ad6",
   "metadata": {},
   "outputs": [],
   "source": [
    "df.to_csv('generations.csv', index=False)"
   ]
  },
  {
   "cell_type": "markdown",
   "id": "8adb197b-5e77-4b79-b32b-5915c2632bd9",
   "metadata": {},
   "source": [
    "### Generar embeddings"
   ]
  },
  {
   "cell_type": "code",
   "execution_count": null,
   "id": "41e4050e-251a-446e-b1ae-5dfae2b276ca",
   "metadata": {},
   "outputs": [],
   "source": [
    "import cohere\n",
    "from tqdm import tqdm\n",
    "\n",
    "def generate_cohere_embedding(data, text_key, group_key):\n",
    "    co = cohere.Client(api_key) ## Aca pone tu api key\n",
    "    \n",
    "    embeddings = []\n",
    "    group_used = []\n",
    "    cont = 0\n",
    "    texts_arrays = []\n",
    "    for index, subreddit in tqdm(data.iterrows()):\n",
    "        comments = subreddit[text_key]\n",
    "        if len(comments) > 0:    \n",
    "            texts_arrays.append(subreddit[text_key])\n",
    "            group_used.append(subreddit[group_key])\n",
    "            if(len(texts_arrays) > 40):\n",
    "                try:\n",
    "                    response = co.embed(texts_arrays)\n",
    "                except:\n",
    "                    time.sleep(62)\n",
    "                    response = co.embed(texts_arrays)\n",
    "                embeddings = embeddings + response.embeddings\n",
    "                texts_arrays = []\n",
    "            \n",
    "    if len(texts_arrays) > 0:\n",
    "        response = co.embed(texts_arrays)\n",
    "        embeddings = embeddings + response.embeddings\n",
    "    \n",
    "    tf_idf = pd.DataFrame(embeddings, index=group_used, columns=range(0,4096))\n",
    "    return tf_idf"
   ]
  },
  {
   "cell_type": "code",
   "execution_count": null,
   "id": "df7b3870-ff8e-40c4-99d3-c091be19ee0f",
   "metadata": {},
   "outputs": [],
   "source": [
    "data = pd.read_csv('generations.csv')"
   ]
  },
  {
   "cell_type": "code",
   "execution_count": null,
   "id": "e5dbf048-9fab-4e48-9a73-e34beced5263",
   "metadata": {},
   "outputs": [],
   "source": [
    "data.head()"
   ]
  },
  {
   "cell_type": "code",
   "execution_count": null,
   "id": "e79f32d8-7505-46bd-9483-e3726dfa5095",
   "metadata": {},
   "outputs": [],
   "source": [
    "republican_data = pd.DataFrame({'text': data['republicans-generations'], 'topic': data['topic']})\n",
    "republican_data"
   ]
  },
  {
   "cell_type": "code",
   "execution_count": null,
   "id": "d7225f5f-b0c8-4426-bc40-a3439f0978c7",
   "metadata": {},
   "outputs": [],
   "source": [
    "republicans_embeddings = generate_cohere_embedding(republican_data, 'text', 'topic')\n",
    "republicans_embeddings.loc[:'Stance on Immigration'].to_csv('republican-generated-embeddings.csv')"
   ]
  },
  {
   "cell_type": "code",
   "execution_count": null,
   "id": "484e19e4-db4a-48c0-8a30-9a98e9d47ff3",
   "metadata": {},
   "outputs": [],
   "source": [
    "democrat_data = pd.DataFrame({'text': data['democrats-generations'], 'topic': data['topic']})\n",
    "democrat_data = democrat_data.iloc[:11]"
   ]
  },
  {
   "cell_type": "code",
   "execution_count": null,
   "id": "d3923dc1-4ee7-4696-bb4e-8ecbe6d5aaab",
   "metadata": {},
   "outputs": [],
   "source": [
    "democrats_embeddings = generate_cohere_embedding(democrat_data, 'text', 'topic')\n",
    "democrats_embeddings.to_csv('democrat-generated-embeddings.csv', index=)"
   ]
  },
  {
   "cell_type": "markdown",
   "id": "99d8ecce-c571-4a8a-b4cd-a5539fc8da21",
   "metadata": {},
   "source": [
    "### Generar dimensiones"
   ]
  },
  {
   "cell_type": "code",
   "execution_count": null,
   "id": "635eb316-f692-4d25-9a08-f45273690e2f",
   "metadata": {},
   "outputs": [],
   "source": [
    "import pandas as pd\n",
    "\n",
    "embeddings_2018 = pd.read_csv(embeddings_pathname, index_col=0)"
   ]
  },
  {
   "cell_type": "code",
   "execution_count": null,
   "id": "dbb6cd6c-c6e8-42c5-a3e0-95bf923cb424",
   "metadata": {},
   "outputs": [],
   "source": [
    "from experiments.ranking import arxiv_waller_ranking"
   ]
  },
  {
   "cell_type": "code",
   "execution_count": null,
   "id": "1f7e1a31-45d3-4113-a331-dbaff0ece82f",
   "metadata": {},
   "outputs": [],
   "source": [
    "filter_list = [idx in arxiv_waller_ranking() for idx in embeddings_2018.index]"
   ]
  },
  {
   "cell_type": "code",
   "execution_count": null,
   "id": "0214b39f-efe0-4e83-94c1-d8e8894a4270",
   "metadata": {},
   "outputs": [],
   "source": [
    "pd.Series(filter_list).value_counts()"
   ]
  },
  {
   "cell_type": "code",
   "execution_count": null,
   "id": "cb09dfbe-9753-4d89-be07-6906c8838731",
   "metadata": {},
   "outputs": [],
   "source": [
    "embeddings_2018 = embeddings_2018[filter_list]"
   ]
  },
  {
   "cell_type": "code",
   "execution_count": null,
   "id": "809aec59-a2f6-4c65-a43f-09fd9ae7ddf1",
   "metadata": {},
   "outputs": [],
   "source": [
    "embeddings_2018.head()"
   ]
  },
  {
   "cell_type": "code",
   "execution_count": null,
   "id": "012cdf03-77f6-431d-b0c8-e1e06f9945c5",
   "metadata": {},
   "outputs": [],
   "source": [
    "democrats_embeddings_generated = pd.read_csv('democrat-generated-embeddings.csv')\n",
    "republicans_embeddings_generated = pd.read_csv('republican-generated-embeddings.csv')"
   ]
  },
  {
   "cell_type": "code",
   "execution_count": null,
   "id": "e2c4f275-f6e1-4802-8ab9-4d7f56582585",
   "metadata": {},
   "outputs": [],
   "source": [
    "democrats_embeddings_generated.head()"
   ]
  },
  {
   "cell_type": "code",
   "execution_count": null,
   "id": "7f6a2a3c-c19a-4a28-adb8-1c0e733c48b3",
   "metadata": {},
   "outputs": [],
   "source": [
    "democrats_embeddings_generated['new_index'] = 'democrats: ' + democrats_embeddings_generated['Unnamed: 0'] "
   ]
  },
  {
   "cell_type": "code",
   "execution_count": null,
   "id": "d03d0b56-ea52-44b7-a5b3-2bc1445a1ea0",
   "metadata": {},
   "outputs": [],
   "source": [
    "republicans_embeddings_generated['new_index'] = 'republicans: ' + republicans_embeddings_generated['Unnamed: 0'] "
   ]
  },
  {
   "cell_type": "code",
   "execution_count": null,
   "id": "4f22c883-fcf7-4612-aebb-e2c1fd7692e3",
   "metadata": {},
   "outputs": [],
   "source": [
    "republicans_embeddings_generated = republicans_embeddings_generated.set_index('new_index')\n",
    "democrats_embeddings_generated = democrats_embeddings_generated.set_index('new_index')"
   ]
  },
  {
   "cell_type": "code",
   "execution_count": null,
   "id": "a2c09880-92a0-4006-a9e4-e16ccbdbd33c",
   "metadata": {},
   "outputs": [],
   "source": [
    "republicans_embeddings_generated = republicans_embeddings_generated.drop('Unnamed: 0', axis=1)\n",
    "democrats_embeddings_generated = democrats_embeddings_generated.drop('Unnamed: 0', axis=1)"
   ]
  },
  {
   "cell_type": "code",
   "execution_count": null,
   "id": "b049a711-7235-4b0a-8f7b-d594c9484d30",
   "metadata": {},
   "outputs": [],
   "source": [
    "embeddings = pd.concat([republicans_embeddings_generated, democrats_embeddings_generated, embeddings_2018])"
   ]
  },
  {
   "cell_type": "code",
   "execution_count": null,
   "id": "bc00c564-dd92-46f9-9e26-2caeedc896bb",
   "metadata": {},
   "outputs": [],
   "source": [
    "from experiments.experiment import Experiment"
   ]
  },
  {
   "cell_type": "code",
   "execution_count": null,
   "id": "0d8fcd44-7f0e-48a9-805d-8720d3d6fdc4",
   "metadata": {},
   "outputs": [],
   "source": [
    "experiment = Experiment(None, '', None, None, None)"
   ]
  },
  {
   "cell_type": "code",
   "execution_count": null,
   "id": "04275344-431a-4be1-9148-7f745032994e",
   "metadata": {},
   "outputs": [],
   "source": [
    "import pandas as pd\n",
    "comparison = pd.read_csv('comparison_chart.csv')\n",
    "comparison.head()"
   ]
  },
  {
   "cell_type": "code",
   "execution_count": null,
   "id": "02220fb5-c775-4c42-8d73-f218a94aaa17",
   "metadata": {},
   "outputs": [],
   "source": [
    "seeds = [(f'democrats: {topic}', f'republicans: {topic}') for topic in comparison.Topics]"
   ]
  },
  {
   "cell_type": "code",
   "execution_count": null,
   "id": "c2acbc75-fda7-4574-b092-071b44b57453",
   "metadata": {},
   "outputs": [],
   "source": [
    "def embeddings_for(embeddings, seed):\n",
    "    filter_list = [idx in arxiv_waller_ranking() + [seed[0], seed[1]] for idx in embeddings.index]\n",
    "    return embeddings[filter_list]    "
   ]
  },
  {
   "cell_type": "code",
   "execution_count": null,
   "id": "2c02e61f-e093-43c5-b3e1-c3628a97404c",
   "metadata": {},
   "outputs": [],
   "source": [
    "scores = [experiment.get_scores(embeddings_for(embeddings, seed), seeds=[seed]) for seed in seeds]"
   ]
  },
  {
   "cell_type": "code",
   "execution_count": null,
   "id": "e46aaaeb-4d00-4f38-a95d-060b9a4cd5ae",
   "metadata": {},
   "outputs": [],
   "source": [
    "from experiments.ranking import Ranking"
   ]
  },
  {
   "cell_type": "code",
   "execution_count": null,
   "id": "bac1395a-a938-441f-9dc7-51bf282b88d6",
   "metadata": {},
   "outputs": [],
   "source": [
    "metrics = {}\n",
    "kendall = {}\n",
    "p_value = {}\n",
    "\n",
    "for i, topic in enumerate(comparison.Topics):\n",
    "    ranking_scores = scores[i].to_dict(orient='dict')['dem_rep']\n",
    "    ranking_scores = ({k: v for k,v in ranking_scores.items() if k in arxiv_waller_ranking()})\n",
    "    ranking = Ranking(ranking_scores)\n",
    "    metrics[topic] = pd.DataFrame(ranking.evaluate_ranking_metrics())"
   ]
  },
  {
   "cell_type": "code",
   "execution_count": null,
   "id": "052ffbc2-25f3-4784-8ccf-cd9dccdb7f12",
   "metadata": {},
   "outputs": [],
   "source": [
    "df = pd.concat(list(metrics.values())).reset_index(drop=True)\n",
    "df['topic'] = comparison.Topics"
   ]
  },
  {
   "cell_type": "code",
   "execution_count": null,
   "id": "ea5d55c7-13ee-4895-a97f-430dc9a82cc8",
   "metadata": {},
   "outputs": [],
   "source": [
    "df"
   ]
  },
  {
   "cell_type": "code",
   "execution_count": null,
   "id": "d23cdb16-a184-4cf3-b347-46ab813737ce",
   "metadata": {},
   "outputs": [],
   "source": [
    "relevant_topics = df[df['p-value'] < 0.05]\n",
    "relevant_topics"
   ]
  },
  {
   "cell_type": "code",
   "execution_count": null,
   "id": "c751a53b-a7ea-4214-bff9-21ae1d970d8a",
   "metadata": {},
   "outputs": [],
   "source": [
    "index_to_topic = relevant_topics['topic'].to_dict()"
   ]
  },
  {
   "cell_type": "code",
   "execution_count": null,
   "id": "8acbdbb1-2dc5-4cd5-af31-c287d78c357a",
   "metadata": {},
   "outputs": [],
   "source": [
    "topic_to_index = {index_to_topic[index]: index for index in index_to_topic.keys()}\n",
    "topic_to_index"
   ]
  },
  {
   "cell_type": "markdown",
   "id": "68cedeee-2e4e-49ec-a827-91b18583e15c",
   "metadata": {},
   "source": [
    "### Relevant Topics"
   ]
  },
  {
   "cell_type": "code",
   "execution_count": null,
   "id": "ed0dea66-fceb-4496-9e64-f1d8e14ef2dd",
   "metadata": {},
   "outputs": [],
   "source": [
    "from experiments.ranking import Ranking"
   ]
  },
  {
   "cell_type": "code",
   "execution_count": null,
   "id": "be47b3fd-4d0a-41ad-8f8b-414e9a165b8e",
   "metadata": {},
   "outputs": [],
   "source": [
    "def ranking_with_seeds(topic, scores, topic_to_index):\n",
    "    index = topic_to_index[topic]\n",
    "    topic_data = scores[index]\n",
    "    return topic_data.sort_values('dem_rep')"
   ]
  },
  {
   "cell_type": "code",
   "execution_count": null,
   "id": "abd0345b-f9e6-4c8b-8107-4180bb2cb37c",
   "metadata": {},
   "outputs": [],
   "source": [
    "def ranking_without_seeds(topic, scores, topic_to_index):\n",
    "    index = topic_to_index[topic]\n",
    "    topic_data = scores[index]\n",
    "    filter_arr = [index in arxiv_waller_ranking() for index in topic_data.index]\n",
    "    topic_data = topic_data[filter_arr]\n",
    "    return topic_data.sort_values('dem_rep')"
   ]
  },
  {
   "cell_type": "code",
   "execution_count": null,
   "id": "be7c9fc2-f6e1-4284-b0f8-f96c478da766",
   "metadata": {},
   "outputs": [],
   "source": [
    "def show_ranking_bump_plot(data):\n",
    "    ranking = Ranking.from_pandas(data)\n",
    "    return ranking.bump_plot();\n",
    "\n",
    "def show_ranking_violin_plot(data):\n",
    "    ranking = Ranking.from_pandas(data)\n",
    "    return ranking.violin_plot();"
   ]
  },
  {
   "cell_type": "code",
   "execution_count": null,
   "id": "faf8a58a-6ea2-4f45-91e2-b3850c8fb3de",
   "metadata": {},
   "outputs": [],
   "source": [
    "def compare_by_topic(topic):\n",
    "    print(ranking_with_seeds(topic, scores, topic_to_index))\n",
    "    data = ranking_without_seeds(topic, scores, topic_to_index)\n",
    "\n",
    "    print(data)\n",
    "    \n",
    "    show_ranking_bump_plot(data);\n",
    "    plt = show_ranking_violin_plot(data)\n",
    "    plt.savefig(f'{topic}.png')   "
   ]
  },
  {
   "cell_type": "code",
   "execution_count": null,
   "id": "fe1b361e-79f4-4cf7-9443-e2983f8dd6a8",
   "metadata": {},
   "outputs": [],
   "source": [
    "for topic in remarkable_topics['topic']:\n",
    "    compare_by_topic(topic)"
   ]
  }
 ],
 "metadata": {
  "kernelspec": {
   "display_name": "Python 3 (ipykernel)",
   "language": "python",
   "name": "python3"
  },
  "language_info": {
   "codemirror_mode": {
    "name": "ipython",
    "version": 3
   },
   "file_extension": ".py",
   "mimetype": "text/x-python",
   "name": "python",
   "nbconvert_exporter": "python",
   "pygments_lexer": "ipython3",
   "version": "3.11.4"
  }
 },
 "nbformat": 4,
 "nbformat_minor": 5
}
