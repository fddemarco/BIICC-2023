{
 "cells": [
  {
   "cell_type": "code",
   "execution_count": null,
   "id": "c0c4a450-79cc-4c7b-aaea-22101408ef59",
   "metadata": {},
   "outputs": [],
   "source": [
    "import random\n",
    "\n",
    "import pandas as pd\n",
    "import matplotlib.pyplot as plt\n",
    "import seaborn as sns"
   ]
  },
  {
   "cell_type": "markdown",
   "id": "98e1a8e8-e816-47c2-a2db-2d8d63b7bb35",
   "metadata": {},
   "source": [
    "# Calcular baseline (random)"
   ]
  },
  {
   "cell_type": "code",
   "execution_count": null,
   "id": "0711eac0-abce-47aa-be0d-b17091db5987",
   "metadata": {},
   "outputs": [],
   "source": [
    "from experiments.ranking import Ranking\n",
    "from experiments.ranking_summarizer import RankingSummarizer\n",
    "from experiments.ranking import arxiv_waller_ranking"
   ]
  },
  {
   "cell_type": "code",
   "execution_count": null,
   "id": "4afb28dc-4520-4dbc-be46-e3eedb97e393",
   "metadata": {},
   "outputs": [],
   "source": [
    "from experiments.reddit_posts import RedditPosts\n",
    "from experiments.experiment import Experiment\n",
    "from experiments.posts_type import Submissions"
   ]
  },
  {
   "cell_type": "code",
   "execution_count": null,
   "id": "786d02ff-7756-4e2c-919c-41f43997e3f5",
   "metadata": {},
   "outputs": [],
   "source": [
    "def ss_of(year):\n",
    "    experiment = Experiment(year, WD, 'results', Submissions(), 'original')\n",
    "    posts = experiment._get_reddit_posts()\n",
    "    return posts.get_ranked_subreddits()"
   ]
  },
  {
   "cell_type": "code",
   "execution_count": null,
   "id": "7b3e0c8b-8dc6-4ab9-ad59-e0b8226e826c",
   "metadata": {},
   "outputs": [],
   "source": [
    "def ranked_subreddits_by_year():\n",
    "    return {year: ss_of(year) for year in range(2012, 2018+1)}"
   ]
  },
  {
   "cell_type": "code",
   "execution_count": null,
   "id": "2829066e-8249-4546-aa04-7080a23e7701",
   "metadata": {},
   "outputs": [],
   "source": [
    "# subreddits_by_year = ranked_subreddits_by_year()"
   ]
  },
  {
   "cell_type": "code",
   "execution_count": null,
   "id": "24eed27f-2283-450c-b19a-324fbbbdd43d",
   "metadata": {},
   "outputs": [],
   "source": [
    "subreddits_by_year = {2012: ['democrats',\n",
    "  'EnoughLibertarianSpam',\n",
    "  'progressive',\n",
    "  'racism',\n",
    "  'GunsAreCool',\n",
    "  'new_right',\n",
    "  'conservatives',\n",
    "  'metacanada',\n",
    "  'TrueChristian',\n",
    "  'Conservative'],\n",
    " 2013: ['democrats',\n",
    "  'EnoughLibertarianSpam',\n",
    "  'progressive',\n",
    "  'racism',\n",
    "  'GunsAreCool',\n",
    "  'new_right',\n",
    "  'conservatives',\n",
    "  'metacanada',\n",
    "  'TrueChristian',\n",
    "  'Conservative'],\n",
    " 2014: ['democrats',\n",
    "  'EnoughLibertarianSpam',\n",
    "  'progressive',\n",
    "  'racism',\n",
    "  'GunsAreCool',\n",
    "  'Christians',\n",
    "  'new_right',\n",
    "  'conservatives',\n",
    "  'metacanada',\n",
    "  'NoFapChristians',\n",
    "  'TrueChristian',\n",
    "  'Conservative'],\n",
    " 2015: ['democrats',\n",
    "  'EnoughLibertarianSpam',\n",
    "  'hillaryclinton',\n",
    "  'progressive',\n",
    "  'racism',\n",
    "  'GunsAreCool',\n",
    "  'Christians',\n",
    "  'new_right',\n",
    "  'conservatives',\n",
    "  'metacanada',\n",
    "  'NoFapChristians',\n",
    "  'TrueChristian',\n",
    "  'The_Donald',\n",
    "  'Conservative'],\n",
    " 2016: ['democrats',\n",
    "  'EnoughLibertarianSpam',\n",
    "  'hillaryclinton',\n",
    "  'progressive',\n",
    "  'EnoughHillHate',\n",
    "  'Enough_Sanders_Spam',\n",
    "  'badwomensanatomy',\n",
    "  'racism',\n",
    "  'GunsAreCool',\n",
    "  'Christians',\n",
    "  'The_Farage',\n",
    "  'new_right',\n",
    "  'conservatives',\n",
    "  'metacanada',\n",
    "  'Mr_Trump',\n",
    "  'NoFapChristians',\n",
    "  'TrueChristian',\n",
    "  'The_Donald',\n",
    "  'Conservative'],\n",
    " 2017: ['democrats',\n",
    "  'EnoughLibertarianSpam',\n",
    "  'hillaryclinton',\n",
    "  'progressive',\n",
    "  'BlueMidterm2018',\n",
    "  'Enough_Sanders_Spam',\n",
    "  'badwomensanatomy',\n",
    "  'racism',\n",
    "  'GunsAreCool',\n",
    "  'Christians',\n",
    "  'The_Farage',\n",
    "  'new_right',\n",
    "  'conservatives',\n",
    "  'metacanada',\n",
    "  'NoFapChristians',\n",
    "  'TrueChristian',\n",
    "  'The_Donald',\n",
    "  'Conservative'],\n",
    " 2018: ['democrats',\n",
    "  'EnoughLibertarianSpam',\n",
    "  'hillaryclinton',\n",
    "  'progressive',\n",
    "  'BlueMidterm2018',\n",
    "  'Enough_Sanders_Spam',\n",
    "  'badwomensanatomy',\n",
    "  'racism',\n",
    "  'GunsAreCool',\n",
    "  'Christians',\n",
    "  'The_Farage',\n",
    "  'new_right',\n",
    "  'conservatives',\n",
    "  'metacanada',\n",
    "  'NoFapChristians',\n",
    "  'TrueChristian',\n",
    "  'The_Donald',\n",
    "  'Conservative']}"
   ]
  },
  {
   "cell_type": "code",
   "execution_count": null,
   "id": "9acba83b-53f9-4c9b-953b-634d268f24be",
   "metadata": {},
   "outputs": [],
   "source": [
    "metrics = ['Classic RBO', 'H&H RBO','Two way RBO', 'Kendall Tau', 'AUC ROC',\n",
    "           'nDCG']"
   ]
  },
  {
   "cell_type": "code",
   "execution_count": null,
   "id": "36de956d-128c-4b3f-ab1d-ac6594b79928",
   "metadata": {},
   "outputs": [],
   "source": [
    "def generate_random_ranking_results(subreddits):\n",
    "    ranking_data = {subreddit: random.random() for subreddit in subreddits}\n",
    "    ranking = Ranking(ranking_data)\n",
    "    results = ranking.evaluate_ranking_metrics()\n",
    "    return results"
   ]
  },
  {
   "cell_type": "code",
   "execution_count": null,
   "id": "64dd5175-8cc0-4777-9bb9-dcc70d06e984",
   "metadata": {},
   "outputs": [],
   "source": [
    "def summarize_random_rankings(n, subreddits, year=1900):\n",
    "    results = generate_random_ranking_results(subreddits)\n",
    "    summarizer = RankingSummarizer(results, 0, year)\n",
    "    for i in range(1, n):\n",
    "        results = generate_random_ranking_results(subreddits)\n",
    "        next_summarizer = RankingSummarizer(results, i, year)\n",
    "        summarizer = summarizer.union(next_summarizer)\n",
    "\n",
    "    return summarizer.to_pandas()"
   ]
  },
  {
   "cell_type": "code",
   "execution_count": null,
   "id": "c932d5ec-cbe4-4d6f-bb4e-5290c65bed52",
   "metadata": {},
   "outputs": [],
   "source": [
    "def random_mean(subreddits):\n",
    "    df = summarize_random_rankings(1000, subreddits)\n",
    "    random_mean = {metric: [df[metric].mean()] for metric in metrics}\n",
    "    random_mean = pd.DataFrame(random_mean).round(2)\n",
    "    return random_mean"
   ]
  },
  {
   "cell_type": "code",
   "execution_count": null,
   "id": "affd24c2-d748-42d1-9d88-00fa1d5199d9",
   "metadata": {},
   "outputs": [],
   "source": [
    "random_mean(arxiv_waller_ranking())"
   ]
  },
  {
   "cell_type": "markdown",
   "id": "6ce59b0b-9d9d-4fa4-91f1-97bab66fa4fe",
   "metadata": {},
   "source": [
    "# Generar Gráficos"
   ]
  },
  {
   "cell_type": "code",
   "execution_count": null,
   "id": "2be4e5f4-1e73-43ea-8148-6f9b817a850a",
   "metadata": {},
   "outputs": [],
   "source": [
    "import random\n",
    "\n",
    "import pandas as pd\n",
    "import matplotlib.pyplot as plt\n",
    "import seaborn as sns\n",
    "\n",
    "data = pd.read_csv(\"resultados_raw.csv\")"
   ]
  },
  {
   "cell_type": "code",
   "execution_count": null,
   "id": "89223d56-83f0-4897-842a-20a03dc6fc50",
   "metadata": {},
   "outputs": [],
   "source": [
    "data.head(100)"
   ]
  },
  {
   "cell_type": "code",
   "execution_count": null,
   "id": "e8062345-d2b0-4b74-83ae-fe29b09fb341",
   "metadata": {},
   "outputs": [],
   "source": [
    "metrics = ['Classic RBO',\n",
    " 'H&H RBO',\n",
    " 'Two way RBO',\n",
    " 'Kendall Tau',\n",
    " 'AUC ROC',\n",
    " 'nDCG']"
   ]
  },
  {
   "cell_type": "code",
   "execution_count": null,
   "id": "408f2563-f9e3-4bfa-9c38-33de9a26ab2b",
   "metadata": {},
   "outputs": [],
   "source": [
    "def df_for_facet_grid(df):\n",
    "    value_column = pd.Series([], name='value')\n",
    "    metric_column = pd.Series([], name='metric')\n",
    "    model_column = pd.Series([], name='model')\n",
    "    year_column = pd.Series([], name='year')\n",
    "    \n",
    "    for metric in metrics: \n",
    "        value_column = pd.concat([value_column, df[metric]])\n",
    "        metric_column = pd.concat([metric_column, pd.Series([metric]*len(df[metric]), name='metric')])\n",
    "        model_column = pd.concat([model_column, df.model])\n",
    "        year_column = pd.concat([year_column, df.year])\n",
    "    \n",
    "    df = pd.DataFrame({\n",
    "        'year': year_column,\n",
    "        'model': model_column,\n",
    "        'value': value_column,\n",
    "        'metric': metric_column\n",
    "    }).sort_values(['year', 'model'])\n",
    "    return df\n",
    "\n",
    "df = df_for_facet_grid(data)"
   ]
  },
  {
   "cell_type": "code",
   "execution_count": null,
   "id": "e45ad96e-8f21-4263-9687-83089780b31c",
   "metadata": {},
   "outputs": [],
   "source": [
    "random_mean =  {'Classic RBO': 0.53,\n",
    " 'H&H RBO': 0.28,\n",
    " 'Two way RBO': 0.53,\n",
    " 'Kendall Tau': 0.0,\n",
    " 'AUC ROC': 0.5,\n",
    " 'nDCG': 0.77\n",
    " }\n",
    "\n",
    "\n",
    "def plot(metric, df):\n",
    "    g = sns.catplot(\n",
    "            data=df, kind=\"bar\",\n",
    "            x=\"year\", y=metric, hue=\"model\", hue_order=['Cohere', 'truncated_10k', 'pretrained', 'raw'], palette=\"dark\", alpha=.6, height=6, legend=False\n",
    "        )\n",
    "    line = plt.axhline(y=random_mean[metric], color='red', linestyle='--', label='baseline (random)')\n",
    "    g._legend_data['baseline (random)'] = line\n",
    "    g.add_legend()\n",
    "    g.legend.set_title(\"Model\")    \n",
    "    plt.title(f\"Models comparison\")\n",
    "    plt.subplots_adjust(top=0.9)\n",
    "\n",
    "    plt.savefig(f\"{metric}.png\")\n",
    "\n",
    "sns.set_theme(style=\"whitegrid\")\n",
    "for metric in metrics:\n",
    "    plot(metric, data)\n"
   ]
  },
  {
   "cell_type": "code",
   "execution_count": null,
   "id": "909d5aae-e1a3-4069-910b-26a7a52d4423",
   "metadata": {},
   "outputs": [],
   "source": [
    "import seaborn as sns\n",
    "import pandas as pd\n",
    "import matplotlib.pyplot as plt\n",
    "\n",
    "metrics = ['Classic RBO', 'H&H RBO', 'Two way RBO', 'Kendall Tau', 'AUC ROC', 'nDCG']\n",
    "\n",
    "\n",
    "g = sns.FacetGrid(df, col=\"metric\", height=6, col_order=metrics, col_wrap=2)\n",
    "g.map_dataframe(sns.barplot, x=\"year\", y=\"value\", hue=\"model\",hue_order=['Cohere', 'truncated_10k', 'pretrained', 'raw'], palette=\"dark\", alpha=0.6)\n",
    "g.set_axis_labels(\"Year\", \"Score\")\n",
    "g.set_titles(\"{col_name}\")\n",
    "\n",
    "\n",
    "def add_axhline(data, **kwargs):\n",
    "    metric = next(kwargs['metric'])\n",
    "    plt.axhline(y=random_mean[metric], color='red', linestyle='--', label='baseline (random)')\n",
    "    \n",
    "g.map_dataframe(add_axhline, metric=iter(metrics))\n",
    "g.add_legend()\n",
    "g.legend.set_title(\"Model\")    \n",
    "\n",
    "plt.savefig('grouped_plot.png')"
   ]
  },
  {
   "cell_type": "code",
   "execution_count": null,
   "id": "1e2fbd8f-bf63-4595-9168-5b9b77d3aa4c",
   "metadata": {},
   "outputs": [],
   "source": []
  }
 ],
 "metadata": {
  "kernelspec": {
   "display_name": "Python 3 (ipykernel)",
   "language": "python",
   "name": "python3"
  },
  "language_info": {
   "codemirror_mode": {
    "name": "ipython",
    "version": 3
   },
   "file_extension": ".py",
   "mimetype": "text/x-python",
   "name": "python",
   "nbconvert_exporter": "python",
   "pygments_lexer": "ipython3",
   "version": "3.11.4"
  }
 },
 "nbformat": 4,
 "nbformat_minor": 5
}
