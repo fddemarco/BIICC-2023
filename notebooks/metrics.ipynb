{
 "cells": [
  {
   "cell_type": "code",
   "execution_count": null,
   "id": "81a2466e-a911-49c3-9b04-2b854caa9475",
   "metadata": {},
   "outputs": [],
   "source": [
    "import pathlib\n",
    "import pandas as pd"
   ]
  },
  {
   "cell_type": "code",
   "execution_count": null,
   "id": "6d319a0d-4fd9-432a-be11-4c53b3f2decc",
   "metadata": {},
   "outputs": [],
   "source": [
    "path = pathlib.Path('COMPLETAR')"
   ]
  },
  {
   "cell_type": "code",
   "execution_count": null,
   "id": "189eaf35-206b-4ec8-b026-9eb8d13adb0c",
   "metadata": {},
   "outputs": [],
   "source": [
    "cols = ['year',\t'model', 'Classic RBO', 'H&H RBO','Two way RBO', 'Kendall Tau', 'ROC AUC','p-value']"
   ]
  },
  {
   "cell_type": "code",
   "execution_count": null,
   "id": "1b7f0ca9-e2e5-4bb2-b969-5a42607b2ee3",
   "metadata": {},
   "outputs": [],
   "source": [
    "res = []\n",
    "for year in path.iterdir():\n",
    "    original = year / 'original' / 'results'\n",
    "    df = pd.read_csv(original / 'ranking_metrics.csv', index_col=None)\n",
    "    df['year'] = [int(year.name)]\n",
    "    df['model'] = ['raw']\n",
    "    df = df[cols]\n",
    "    res.append(df)   \n",
    "    "
   ]
  },
  {
   "cell_type": "code",
   "execution_count": null,
   "id": "97679e0b-947a-4559-aabb-7e4d18852469",
   "metadata": {},
   "outputs": [],
   "source": [
    "for year in path.iterdir():\n",
    "    original = year / 'original' / 'pretrained'\n",
    "    df = pd.read_csv(original / 'ranking_metrics.csv', index_col=None)\n",
    "    df['year'] = [int(year.name)]\n",
    "    df['model'] = ['pretrained']\n",
    "    df = df[cols]\n",
    "    res.append(df)   \n",
    "    "
   ]
  },
  {
   "cell_type": "code",
   "execution_count": null,
   "id": "626be8bf-a292-43d7-83b3-3da0a71a6689",
   "metadata": {},
   "outputs": [],
   "source": [
    "for year in path.iterdir():\n",
    "    original = year / 'truncated' / 'results'\n",
    "    df = pd.read_csv(original / 'ranking_metrics.csv', index_col=None)\n",
    "    df['year'] = [int(year.name)]\n",
    "    df['model'] = ['truncated_10k']\n",
    "    df = df[cols]\n",
    "    res.append(df)   "
   ]
  },
  {
   "cell_type": "code",
   "execution_count": null,
   "id": "74b656bb-8c80-4916-a493-7107d97a79bf",
   "metadata": {},
   "outputs": [],
   "source": [
    "results = pd.concat(res).sort_values(['model', 'year'])"
   ]
  },
  {
   "cell_type": "code",
   "execution_count": null,
   "id": "6fce889a-4de6-4b71-968e-abbcbacf3d82",
   "metadata": {},
   "outputs": [],
   "source": [
    "results[cols].round(2).to_csv('resultados_raw.csv', index=False)"
   ]
  },
  {
   "cell_type": "code",
   "execution_count": null,
   "id": "5e55a47b-3f2e-44a6-ad63-01d137511a5b",
   "metadata": {},
   "outputs": [],
   "source": [
    "# Cohere no esta automatizado!"
   ]
  }
 ],
 "metadata": {
  "kernelspec": {
   "display_name": "Python 3 (ipykernel)",
   "language": "python",
   "name": "python3"
  },
  "language_info": {
   "codemirror_mode": {
    "name": "ipython",
    "version": 3
   },
   "file_extension": ".py",
   "mimetype": "text/x-python",
   "name": "python",
   "nbconvert_exporter": "python",
   "pygments_lexer": "ipython3",
   "version": "3.11.4"
  }
 },
 "nbformat": 4,
 "nbformat_minor": 5
}
