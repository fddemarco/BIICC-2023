{
 "cells": [
  {
   "cell_type": "markdown",
   "id": "5bc6e1a0-9886-4eea-8fe3-242834669b6d",
   "metadata": {},
   "source": [
    "# Configuramos variables de ambiente"
   ]
  },
  {
   "cell_type": "code",
   "execution_count": null,
   "id": "0cefd7b2-b3b0-4240-a6de-3f1e97daba6d",
   "metadata": {},
   "outputs": [],
   "source": [
    "import dotenv\n",
    "\n",
    "config = dotenv.dotenv_values(\".env\")"
   ]
  },
  {
   "cell_type": "code",
   "execution_count": null,
   "id": "6405fce7-71c2-4ceb-9213-1e1e37a90475",
   "metadata": {},
   "outputs": [],
   "source": [
    "api_key = config['API_KEY']\n",
    "embeddings_pathname = config['EMBEDDINGS_PATH']"
   ]
  },
  {
   "cell_type": "markdown",
   "id": "8adb197b-5e77-4b79-b32b-5915c2632bd9",
   "metadata": {},
   "source": [
    "### Generar embeddings"
   ]
  },
  {
   "cell_type": "code",
   "execution_count": null,
   "id": "41e4050e-251a-446e-b1ae-5dfae2b276ca",
   "metadata": {},
   "outputs": [],
   "source": [
    "import cohere\n",
    "from tqdm import tqdm\n",
    "\n",
    "def generate_cohere_embedding(data, text_key, group_key):\n",
    "    co = cohere.Client(api_key) ## Aca pone tu api key\n",
    "    \n",
    "    embeddings = []\n",
    "    group_used = []\n",
    "    cont = 0\n",
    "    texts_arrays = []\n",
    "    for index, subreddit in tqdm(data.iterrows()):\n",
    "        comments = subreddit[text_key]\n",
    "        if len(comments) > 0:    \n",
    "            texts_arrays.append(subreddit[text_key])\n",
    "            group_used.append(subreddit[group_key])\n",
    "            if(len(texts_arrays) > 40):\n",
    "                try:\n",
    "                    response = co.embed(texts_arrays)\n",
    "                except:\n",
    "                    time.sleep(62)\n",
    "                    response = co.embed(texts_arrays)\n",
    "                embeddings = embeddings + response.embeddings\n",
    "                texts_arrays = []\n",
    "            \n",
    "    if len(texts_arrays) > 0:\n",
    "        response = co.embed(texts_arrays)\n",
    "        embeddings = embeddings + response.embeddings\n",
    "    \n",
    "    tf_idf = pd.DataFrame(embeddings, index=group_used, columns=range(0,4096))\n",
    "    return tf_idf"
   ]
  }
 ],
 "metadata": {
  "kernelspec": {
   "display_name": "Python 3 (ipykernel)",
   "language": "python",
   "name": "python3"
  },
  "language_info": {
   "codemirror_mode": {
    "name": "ipython",
    "version": 3
   },
   "file_extension": ".py",
   "mimetype": "text/x-python",
   "name": "python",
   "nbconvert_exporter": "python",
   "pygments_lexer": "ipython3",
   "version": "3.11.4"
  }
 },
 "nbformat": 4,
 "nbformat_minor": 5
}
