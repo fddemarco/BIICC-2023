{
 "cells": [
  {
   "cell_type": "code",
   "execution_count": null,
   "id": "2038d8ce-6936-4c72-9f94-da718743c41b",
   "metadata": {},
   "outputs": [],
   "source": [
    "import os\n",
    "\n",
    "import fasttext\n",
    "import pandas as pd\n",
    "\n",
    "from paths.paths_2013 import RESULTS_DIR, TEXTS_DIR"
   ]
  },
  {
   "cell_type": "code",
   "execution_count": null,
   "id": "961da580-3428-4a09-a11a-74493054d4fc",
   "metadata": {},
   "outputs": [],
   "source": [
    "model_pathname = os.path.join(RESULTS_DIR, 'subreddits.bin')\n",
    "model = fasttext.load_model(model_pathname)"
   ]
  },
  {
   "cell_type": "code",
   "execution_count": null,
   "id": "71b12932-803d-4774-8a14-083322e42994",
   "metadata": {},
   "outputs": [],
   "source": [
    "def subreddit_to_file(s):\n",
    "    pathname = os.path.join(TEXTS_DIR, f'subreddit_{s}.txt')\n",
    "    return pathname"
   ]
  },
  {
   "cell_type": "code",
   "execution_count": null,
   "id": "50101120-7b03-450e-a625-52803a64af18",
   "metadata": {},
   "outputs": [],
   "source": [
    "def embeddings_of(subreddits):\n",
    "    embeddings = []\n",
    "    for s in subreddits:\n",
    "        pathname = subreddit_to_file(s)\n",
    "        with open(pathname, 'r') as f:\n",
    "            text = f.read()\n",
    "        embeddings.append(model.get_sentence_vector(text).astype(float))  \n",
    "    return embeddings"
   ]
  },
  {
   "cell_type": "code",
   "execution_count": null,
   "id": "10a8ad62-f3f5-448d-870c-ef77b2d806ba",
   "metadata": {},
   "outputs": [],
   "source": [
    "selected = ['democrats','hillaryclinton','The_Donald','Conservative','Mr_Trump','BlueMidterm2018','EnoughHillHate','metacanada','TrueChristian','new_right',\n",
    "'progressive','racism','GunsAreCool','Christians','The_Farage','NoFapChristians','Enough_Sanders_Spam','conservatives','Mr_Trump','EnoughLibertarianSpam','badwomensanatomy']\n",
    "\n",
    "selected_year = [s for s in selected if os.path.exists(subreddit_to_file(s))]\n",
    "\n",
    "embeddings = embeddings_of(selected_year)"
   ]
  },
  {
   "cell_type": "code",
   "execution_count": null,
   "id": "7da65cae-f34d-438a-9238-f86244a4df1f",
   "metadata": {},
   "outputs": [],
   "source": [
    "tf_idf = pd.DataFrame(embeddings, index=selected_year, columns=range(0,300))\n",
    "tf_idf.to_csv(os.path.join(RESULTS_DIR, 'embeddings.csv'))\n",
    "tf_idf"
   ]
  },
  {
   "cell_type": "code",
   "execution_count": null,
   "id": "50d01128-a811-457d-ae60-ba79ceb03441",
   "metadata": {},
   "outputs": [],
   "source": [
    "tf_idf.info()"
   ]
  },
  {
   "cell_type": "code",
   "execution_count": null,
   "id": "a94720d0-9158-4d93-935c-a7a7d542e922",
   "metadata": {},
   "outputs": [],
   "source": [
    "tf_idf.value_counts"
   ]
  }
 ],
 "metadata": {
  "kernelspec": {
   "display_name": "Python 3 (ipykernel)",
   "language": "python",
   "name": "python3"
  },
  "language_info": {
   "codemirror_mode": {
    "name": "ipython",
    "version": 3
   },
   "file_extension": ".py",
   "mimetype": "text/x-python",
   "name": "python",
   "nbconvert_exporter": "python",
   "pygments_lexer": "ipython3",
   "version": "3.11.2"
  }
 },
 "nbformat": 4,
 "nbformat_minor": 5
}
