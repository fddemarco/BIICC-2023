{
 "cells": [
  {
   "cell_type": "code",
   "execution_count": 1,
   "id": "2038d8ce-6936-4c72-9f94-da718743c41b",
   "metadata": {},
   "outputs": [],
   "source": [
    "import os\n",
    "\n",
    "import fasttext\n",
    "import pandas as pd\n",
    "\n",
    "from paths import RESULTS_DIR, TEXTS_DIR"
   ]
  },
  {
   "cell_type": "code",
   "execution_count": 2,
   "id": "961da580-3428-4a09-a11a-74493054d4fc",
   "metadata": {},
   "outputs": [
    {
     "name": "stderr",
     "output_type": "stream",
     "text": [
      "Warning : `load_model` does not return WordVectorModel or SupervisedModel any more, but a `FastText` object which is very similar.\n"
     ]
    }
   ],
   "source": [
    "model_pathname = os.path.join(RESULTS_DIR, 'subreddits.bin')\n",
    "model = fasttext.load_model(model_pathname)"
   ]
  },
  {
   "cell_type": "code",
   "execution_count": 6,
   "id": "71b12932-803d-4774-8a14-083322e42994",
   "metadata": {},
   "outputs": [],
   "source": [
    "def subreddit_to_file(s):\n",
    "    pathname = os.path.join(TEXTS_DIR, 'subreddit_' + s + '.txt')\n",
    "    return pathname"
   ]
  },
  {
   "cell_type": "code",
   "execution_count": 4,
   "id": "c0de30cc-ff80-4ab6-8d0b-1aa621b5a316",
   "metadata": {},
   "outputs": [],
   "source": []
  },
  {
   "cell_type": "code",
   "execution_count": 8,
   "id": "5881e5f3-370e-4edf-a828-b09b4228770b",
   "metadata": {},
   "outputs": [
    {
     "data": {
      "text/plain": [
       "['democrats',\n",
       " 'Conservative',\n",
       " 'metacanada',\n",
       " 'TrueChristian',\n",
       " 'new_right',\n",
       " 'progressive',\n",
       " 'racism',\n",
       " 'GunsAreCool',\n",
       " 'Christians',\n",
       " 'conservatives',\n",
       " 'EnoughLibertarianSpam']"
      ]
     },
     "execution_count": 8,
     "metadata": {},
     "output_type": "execute_result"
    }
   ],
   "source": [
    "selected_2012"
   ]
  },
  {
   "cell_type": "code",
   "execution_count": 11,
   "id": "50101120-7b03-450e-a625-52803a64af18",
   "metadata": {},
   "outputs": [],
   "source": [
    "def embeddings_of(subreddits):\n",
    "    embeddings = []\n",
    "    for s in subreddits:\n",
    "        pathname = subreddit_to_file(s)\n",
    "        with open(pathname, 'r') as f:\n",
    "            text = f.read()\n",
    "        embeddings.append(model.get_sentence_vector(text).astype(float))  \n",
    "    return embeddings"
   ]
  },
  {
   "cell_type": "code",
   "execution_count": 12,
   "id": "10a8ad62-f3f5-448d-870c-ef77b2d806ba",
   "metadata": {},
   "outputs": [],
   "source": [
    "selected = ['democrats','hillaryclinton','The_Donald','Conservative','Mr_Trump','BlueMidterm2018','EnoughHillHate','metacanada','TrueChristian','new_right',\n",
    "'progressive','racism','GunsAreCool','Christians','The_Farage','NoFapChristians','Enough_Sanders_Spam','conservatives','Mr_Trump','EnoughLibertarianSpam','badwomensanatomy']\n",
    "\n",
    "selected_2012 = [s for s in selected if os.path.exists(subreddit_to_file(s))]\n",
    "\n",
    "embeddings = embeddings_of(selected_2012)"
   ]
  },
  {
   "cell_type": "code",
   "execution_count": 13,
   "id": "7da65cae-f34d-438a-9238-f86244a4df1f",
   "metadata": {},
   "outputs": [
    {
     "data": {
      "text/html": [
       "<div>\n",
       "<style scoped>\n",
       "    .dataframe tbody tr th:only-of-type {\n",
       "        vertical-align: middle;\n",
       "    }\n",
       "\n",
       "    .dataframe tbody tr th {\n",
       "        vertical-align: top;\n",
       "    }\n",
       "\n",
       "    .dataframe thead th {\n",
       "        text-align: right;\n",
       "    }\n",
       "</style>\n",
       "<table border=\"1\" class=\"dataframe\">\n",
       "  <thead>\n",
       "    <tr style=\"text-align: right;\">\n",
       "      <th></th>\n",
       "      <th>0</th>\n",
       "      <th>1</th>\n",
       "      <th>2</th>\n",
       "      <th>3</th>\n",
       "      <th>4</th>\n",
       "      <th>5</th>\n",
       "      <th>6</th>\n",
       "      <th>7</th>\n",
       "      <th>8</th>\n",
       "      <th>9</th>\n",
       "      <th>...</th>\n",
       "      <th>290</th>\n",
       "      <th>291</th>\n",
       "      <th>292</th>\n",
       "      <th>293</th>\n",
       "      <th>294</th>\n",
       "      <th>295</th>\n",
       "      <th>296</th>\n",
       "      <th>297</th>\n",
       "      <th>298</th>\n",
       "      <th>299</th>\n",
       "    </tr>\n",
       "  </thead>\n",
       "  <tbody>\n",
       "    <tr>\n",
       "      <th>democrats</th>\n",
       "      <td>0.077962</td>\n",
       "      <td>0.090066</td>\n",
       "      <td>0.017169</td>\n",
       "      <td>-0.080944</td>\n",
       "      <td>0.034118</td>\n",
       "      <td>0.017896</td>\n",
       "      <td>0.022939</td>\n",
       "      <td>0.048897</td>\n",
       "      <td>0.023790</td>\n",
       "      <td>0.022048</td>\n",
       "      <td>...</td>\n",
       "      <td>-0.016959</td>\n",
       "      <td>0.014541</td>\n",
       "      <td>0.025878</td>\n",
       "      <td>-0.020941</td>\n",
       "      <td>-0.033541</td>\n",
       "      <td>-0.044149</td>\n",
       "      <td>0.004202</td>\n",
       "      <td>0.052742</td>\n",
       "      <td>-0.015555</td>\n",
       "      <td>0.008620</td>\n",
       "    </tr>\n",
       "    <tr>\n",
       "      <th>Conservative</th>\n",
       "      <td>0.078239</td>\n",
       "      <td>0.092015</td>\n",
       "      <td>0.017254</td>\n",
       "      <td>-0.082364</td>\n",
       "      <td>0.035058</td>\n",
       "      <td>0.018872</td>\n",
       "      <td>0.022986</td>\n",
       "      <td>0.049073</td>\n",
       "      <td>0.023114</td>\n",
       "      <td>0.021387</td>\n",
       "      <td>...</td>\n",
       "      <td>-0.015867</td>\n",
       "      <td>0.013879</td>\n",
       "      <td>0.026619</td>\n",
       "      <td>-0.020127</td>\n",
       "      <td>-0.033768</td>\n",
       "      <td>-0.045515</td>\n",
       "      <td>0.004521</td>\n",
       "      <td>0.053593</td>\n",
       "      <td>-0.015194</td>\n",
       "      <td>0.009483</td>\n",
       "    </tr>\n",
       "    <tr>\n",
       "      <th>metacanada</th>\n",
       "      <td>0.082641</td>\n",
       "      <td>0.086735</td>\n",
       "      <td>0.018739</td>\n",
       "      <td>-0.077025</td>\n",
       "      <td>0.033757</td>\n",
       "      <td>0.016915</td>\n",
       "      <td>0.019564</td>\n",
       "      <td>0.048102</td>\n",
       "      <td>0.022497</td>\n",
       "      <td>0.023903</td>\n",
       "      <td>...</td>\n",
       "      <td>-0.021017</td>\n",
       "      <td>0.016163</td>\n",
       "      <td>0.020532</td>\n",
       "      <td>-0.022353</td>\n",
       "      <td>-0.034162</td>\n",
       "      <td>-0.043604</td>\n",
       "      <td>0.000032</td>\n",
       "      <td>0.050811</td>\n",
       "      <td>-0.012306</td>\n",
       "      <td>0.012573</td>\n",
       "    </tr>\n",
       "    <tr>\n",
       "      <th>TrueChristian</th>\n",
       "      <td>0.079618</td>\n",
       "      <td>0.093193</td>\n",
       "      <td>0.021011</td>\n",
       "      <td>-0.084106</td>\n",
       "      <td>0.041237</td>\n",
       "      <td>0.023095</td>\n",
       "      <td>0.017049</td>\n",
       "      <td>0.048691</td>\n",
       "      <td>0.020301</td>\n",
       "      <td>0.020060</td>\n",
       "      <td>...</td>\n",
       "      <td>-0.015617</td>\n",
       "      <td>0.012495</td>\n",
       "      <td>0.027324</td>\n",
       "      <td>-0.017971</td>\n",
       "      <td>-0.030272</td>\n",
       "      <td>-0.044149</td>\n",
       "      <td>0.002154</td>\n",
       "      <td>0.056835</td>\n",
       "      <td>-0.017348</td>\n",
       "      <td>0.011115</td>\n",
       "    </tr>\n",
       "    <tr>\n",
       "      <th>new_right</th>\n",
       "      <td>0.074803</td>\n",
       "      <td>0.091959</td>\n",
       "      <td>0.017307</td>\n",
       "      <td>-0.083299</td>\n",
       "      <td>0.037539</td>\n",
       "      <td>0.020883</td>\n",
       "      <td>0.018868</td>\n",
       "      <td>0.047685</td>\n",
       "      <td>0.023666</td>\n",
       "      <td>0.020739</td>\n",
       "      <td>...</td>\n",
       "      <td>-0.014831</td>\n",
       "      <td>0.012813</td>\n",
       "      <td>0.026237</td>\n",
       "      <td>-0.019075</td>\n",
       "      <td>-0.029789</td>\n",
       "      <td>-0.043462</td>\n",
       "      <td>0.001754</td>\n",
       "      <td>0.054380</td>\n",
       "      <td>-0.013576</td>\n",
       "      <td>0.010970</td>\n",
       "    </tr>\n",
       "  </tbody>\n",
       "</table>\n",
       "<p>5 rows × 300 columns</p>\n",
       "</div>"
      ],
      "text/plain": [
       "                    0         1         2         3         4         5    \\\n",
       "democrats      0.077962  0.090066  0.017169 -0.080944  0.034118  0.017896   \n",
       "Conservative   0.078239  0.092015  0.017254 -0.082364  0.035058  0.018872   \n",
       "metacanada     0.082641  0.086735  0.018739 -0.077025  0.033757  0.016915   \n",
       "TrueChristian  0.079618  0.093193  0.021011 -0.084106  0.041237  0.023095   \n",
       "new_right      0.074803  0.091959  0.017307 -0.083299  0.037539  0.020883   \n",
       "\n",
       "                    6         7         8         9    ...       290  \\\n",
       "democrats      0.022939  0.048897  0.023790  0.022048  ... -0.016959   \n",
       "Conservative   0.022986  0.049073  0.023114  0.021387  ... -0.015867   \n",
       "metacanada     0.019564  0.048102  0.022497  0.023903  ... -0.021017   \n",
       "TrueChristian  0.017049  0.048691  0.020301  0.020060  ... -0.015617   \n",
       "new_right      0.018868  0.047685  0.023666  0.020739  ... -0.014831   \n",
       "\n",
       "                    291       292       293       294       295       296  \\\n",
       "democrats      0.014541  0.025878 -0.020941 -0.033541 -0.044149  0.004202   \n",
       "Conservative   0.013879  0.026619 -0.020127 -0.033768 -0.045515  0.004521   \n",
       "metacanada     0.016163  0.020532 -0.022353 -0.034162 -0.043604  0.000032   \n",
       "TrueChristian  0.012495  0.027324 -0.017971 -0.030272 -0.044149  0.002154   \n",
       "new_right      0.012813  0.026237 -0.019075 -0.029789 -0.043462  0.001754   \n",
       "\n",
       "                    297       298       299  \n",
       "democrats      0.052742 -0.015555  0.008620  \n",
       "Conservative   0.053593 -0.015194  0.009483  \n",
       "metacanada     0.050811 -0.012306  0.012573  \n",
       "TrueChristian  0.056835 -0.017348  0.011115  \n",
       "new_right      0.054380 -0.013576  0.010970  \n",
       "\n",
       "[5 rows x 300 columns]"
      ]
     },
     "execution_count": 13,
     "metadata": {},
     "output_type": "execute_result"
    }
   ],
   "source": [
    "tf_idf = pd.DataFrame(embeddings, index=selected_2012, columns=range(0,300))\n",
    "tf_idf.to_csv(os.path.join(RESULTS_DIR, 'embeddings.csv'))\n",
    "tf_idf.head()"
   ]
  },
  {
   "cell_type": "code",
   "execution_count": 15,
   "id": "50d01128-a811-457d-ae60-ba79ceb03441",
   "metadata": {},
   "outputs": [
    {
     "name": "stdout",
     "output_type": "stream",
     "text": [
      "<class 'pandas.core.frame.DataFrame'>\n",
      "Index: 11 entries, democrats to EnoughLibertarianSpam\n",
      "Columns: 300 entries, 0 to 299\n",
      "dtypes: float64(300)\n",
      "memory usage: 25.9+ KB\n"
     ]
    }
   ],
   "source": [
    "tf_idf.info()"
   ]
  },
  {
   "cell_type": "code",
   "execution_count": null,
   "id": "a94720d0-9158-4d93-935c-a7a7d542e922",
   "metadata": {},
   "outputs": [],
   "source": [
    "tf_idf.value_counts"
   ]
  }
 ],
 "metadata": {
  "kernelspec": {
   "display_name": "Python 3 (ipykernel)",
   "language": "python",
   "name": "python3"
  },
  "language_info": {
   "codemirror_mode": {
    "name": "ipython",
    "version": 3
   },
   "file_extension": ".py",
   "mimetype": "text/x-python",
   "name": "python",
   "nbconvert_exporter": "python",
   "pygments_lexer": "ipython3",
   "version": "3.11.2"
  }
 },
 "nbformat": 4,
 "nbformat_minor": 5
}
