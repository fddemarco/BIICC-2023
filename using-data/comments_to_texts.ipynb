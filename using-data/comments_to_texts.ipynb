{
 "cells": [
  {
   "cell_type": "code",
   "execution_count": null,
   "id": "c50e5d38-3930-4134-98b2-129bbed152df",
   "metadata": {},
   "outputs": [],
   "source": [
    "import os\n",
    "from glob import glob\n",
    "\n",
    "from datasets import load_dataset\n",
    "import pandas as pd\n",
    "\n",
    "from paths.paths_2013 import TEXTS_DIR, RESULTS_DIR, DATA_DIR, YEAR"
   ]
  },
  {
   "cell_type": "code",
   "execution_count": null,
   "id": "8eaaf2fc-0f16-48e7-bca5-bd6d882a23bb",
   "metadata": {},
   "outputs": [],
   "source": [
    "def write_to_file(df_chunk):\n",
    "    results_dir = TEXTS_DIR\n",
    "    \n",
    "    df = pd.DataFrame(df_chunk)\n",
    "    grouped = df.groupby('subreddit')['body'].apply(lambda x: ' '.join(x)).reset_index()\n",
    "    for idx, row in grouped.iterrows():\n",
    "        output_file = f\"subreddit_{row['subreddit']}_.txt\"\n",
    "        with open(os.path.join(results_dir, output_file), 'a') as f:\n",
    "            f.write(row['body'])\n",
    "    return df_chunk"
   ]
  },
  {
   "cell_type": "code",
   "execution_count": null,
   "id": "5ea322f6-a097-4751-907b-4ce955ffb4c2",
   "metadata": {},
   "outputs": [],
   "source": [
    "def comments_by_subreddit():\n",
    "    data_dir = DATA_DIR\n",
    "    \n",
    "    data = load_dataset('parquet', data_files=os.path.join(data_dir, f'RC_{YEAR}*'), split='train', streaming=True)\n",
    "    data_mapped = data.map(write_to_file, batched=True, batch_size=10000)\n",
    "    for data in data_mapped:\n",
    "        pass"
   ]
  },
  {
   "cell_type": "code",
   "execution_count": null,
   "id": "4036a830-0a6e-4c4a-96a2-ffa2f0545c28",
   "metadata": {},
   "outputs": [],
   "source": [
    "class FileReader:\n",
    "    def __init__(self, filename, chunk_size=int(1e8)):\n",
    "        self.chunk_size = chunk_size\n",
    "        self.filename = filename\n",
    "        self.file = None        \n",
    "    \n",
    "    def __enter__(self):\n",
    "        self.file = open(self.filename, 'r')\n",
    "        return self\n",
    "        \n",
    "    def __exit__(self, exc_type, exc_value, traceback):\n",
    "        self.file.close()\n",
    "        \n",
    "    def __iter__(self):\n",
    "        return self\n",
    "    \n",
    "    def __next__(self):\n",
    "        data = self.file.read(self.chunk_size)\n",
    "        if not data:\n",
    "            raise StopIteration\n",
    "        return data"
   ]
  },
  {
   "cell_type": "code",
   "execution_count": null,
   "id": "0d9d6dcf-c379-4127-9a89-12e37355355d",
   "metadata": {},
   "outputs": [],
   "source": [
    "class AppendFiles:\n",
    "    def __init__(self, input_filenames, output_filename, chunk_size=int(1e8)):\n",
    "        self.chunk_size = chunk_size\n",
    "        self.input_filenames = input_filenames\n",
    "        self.output_filename = output_filename\n",
    "        self.file = None\n",
    "        \n",
    "    def __enter__(self):\n",
    "        self.file = open(self.output_filename, 'a')\n",
    "        return self\n",
    "        \n",
    "    def __exit__(self, exc_type, exc_value, traceback):\n",
    "        self.file.close()\n",
    "    \n",
    "    def run(self):\n",
    "        for file in self.input_filenames:\n",
    "            self.append_file(file)\n",
    "    \n",
    "    def append_file(self, input_file):\n",
    "        with FileReader(input_file) as reader:\n",
    "            for data in reader:\n",
    "                self.file.write(data)\n",
    "            self.file.write('\\n')"
   ]
  },
  {
   "cell_type": "code",
   "execution_count": null,
   "id": "a4588254-53f9-45b3-82e7-f6701d6d295b",
   "metadata": {},
   "outputs": [],
   "source": [
    "def texts_to_single_file():\n",
    "    data_dir = TEXTS_DIR\n",
    "    \n",
    "    files = glob(os.path.join(data_dir, f'subreddit_*'))\n",
    "    files.sort()\n",
    "    with AppendFiles(files, os.path.join(RESULTS_DIR, f'subreddits_{YEAR}.txt')) as file_handler:\n",
    "        file_handler.run()"
   ]
  },
  {
   "cell_type": "code",
   "execution_count": null,
   "id": "7e84b5a0-a56f-44e6-813c-1ebd70f9f933",
   "metadata": {},
   "outputs": [],
   "source": [
    "comments_by_subreddit()"
   ]
  },
  {
   "cell_type": "code",
   "execution_count": null,
   "id": "f6365f7e-a597-40ab-99aa-53efcdec7eb1",
   "metadata": {},
   "outputs": [],
   "source": [
    "texts_to_single_file()"
   ]
  }
 ],
 "metadata": {
  "kernelspec": {
   "display_name": "Python 3",
   "language": "python",
   "name": "python3"
  },
  "language_info": {
   "codemirror_mode": {
    "name": "ipython",
    "version": 3
   },
   "file_extension": ".py",
   "mimetype": "text/x-python",
   "name": "python",
   "nbconvert_exporter": "python",
   "pygments_lexer": "ipython3",
   "version": "3.8.13"
  }
 },
 "nbformat": 4,
 "nbformat_minor": 5
}
