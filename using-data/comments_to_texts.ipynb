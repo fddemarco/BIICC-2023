{
 "cells": [
  {
   "cell_type": "code",
   "execution_count": null,
   "id": "c50e5d38-3930-4134-98b2-129bbed152df",
   "metadata": {},
   "outputs": [],
   "source": [
    "import os\n",
    "from glob import glob\n",
    "\n",
    "from datasets import load_dataset\n",
    "import pandas as pd\n",
    "\n",
    "from paths.paths_2013 import TEXTS_DIR, RESULTS_DIR, DATA_DIR, YEAR"
   ]
  },
  {
   "cell_type": "code",
   "execution_count": null,
   "id": "8eaaf2fc-0f16-48e7-bca5-bd6d882a23bb",
   "metadata": {},
   "outputs": [],
   "source": [
    "def write_to_file(df_chunk):\n",
    "    results_dir = TEXTS_DIR\n",
    "    \n",
    "    df = pd.DataFrame(df_chunk)\n",
    "    grouped = df.groupby('subreddit')['body'].apply(lambda x: ' '.join(x)).reset_index()\n",
    "    for idx, row in grouped.iterrows():\n",
    "        output_file = 'subreddit_' + row['subreddit'] + '.txt'\n",
    "        with open(os.path.join(results_dir, output_file), 'a') as f:\n",
    "            f.write(row['body'])\n",
    "    return df_chunk"
   ]
  },
  {
   "cell_type": "code",
   "execution_count": null,
   "id": "5ea322f6-a097-4751-907b-4ce955ffb4c2",
   "metadata": {},
   "outputs": [],
   "source": [
    "def comments_by_subreddit():\n",
    "    data_dir = DATA_DIR\n",
    "    \n",
    "    data = load_dataset('parquet', data_files=os.path.join(data_dir, f'RC_{YEAR}*'), split='train', streaming=True)\n",
    "    data_mapped = data.map(write_to_file, batched=True, batch_size=10000)\n",
    "    for data in data_mapped:\n",
    "        pass"
   ]
  },
  {
   "cell_type": "code",
   "execution_count": null,
   "id": "a4588254-53f9-45b3-82e7-f6701d6d295b",
   "metadata": {},
   "outputs": [],
   "source": [
    "def texts_to_single_file():\n",
    "    data_dir = TEXTS_DIR\n",
    "    \n",
    "    files = glob(os.path.join(data_dir, 'subreddit_*'))\n",
    "    files.sort()\n",
    "    for file in files:\n",
    "        append_file(file)"
   ]
  },
  {
   "cell_type": "code",
   "execution_count": null,
   "id": "01a87154-ce41-4b71-bc1a-08f41758cec9",
   "metadata": {},
   "outputs": [],
   "source": [
    "def append_file(file):\n",
    "    results_dir = RESULTS_DIR\n",
    "    \n",
    "    with open(file, 'r') as input_file:\n",
    "        with open(os.path.join(results_dir, 'subreddits.txt'), 'a') as output_file:\n",
    "            for text in input_file.read(int(1e8)):\n",
    "                output_file.write(text)\n",
    "            output_file.write('\\n')"
   ]
  },
  {
   "cell_type": "code",
   "execution_count": null,
   "id": "7e84b5a0-a56f-44e6-813c-1ebd70f9f933",
   "metadata": {},
   "outputs": [],
   "source": [
    "comments_by_subreddit()"
   ]
  },
  {
   "cell_type": "code",
   "execution_count": null,
   "id": "f6365f7e-a597-40ab-99aa-53efcdec7eb1",
   "metadata": {},
   "outputs": [],
   "source": [
    "texts_to_single_file()"
   ]
  }
 ],
 "metadata": {
  "kernelspec": {
   "display_name": "Python 3",
   "language": "python",
   "name": "python3"
  },
  "language_info": {
   "codemirror_mode": {
    "name": "ipython",
    "version": 3
   },
   "file_extension": ".py",
   "mimetype": "text/x-python",
   "name": "python",
   "nbconvert_exporter": "python",
   "pygments_lexer": "ipython3",
   "version": "3.8.13"
  }
 },
 "nbformat": 4,
 "nbformat_minor": 5
}
