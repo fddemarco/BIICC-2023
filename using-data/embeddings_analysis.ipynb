{
 "cells": [
  {
   "cell_type": "code",
   "execution_count": null,
   "id": "0ba9e9ce-6326-46c8-8d72-4daf1d9e0d53",
   "metadata": {},
   "outputs": [],
   "source": [
    "import os\n",
    "\n",
    "import matplotlib.pyplot as plt\n",
    "import pandas as pd\n",
    "\n",
    "from paths.paths import BASE_RESULTS_DIR\n",
    "import dimen_generation.dimen_generation_updated as dg\n",
    "import dimen_generation.bumpplot as bp"
   ]
  },
  {
   "cell_type": "code",
   "execution_count": null,
   "id": "e5159754-2bda-47fb-b06f-ce03c661d857",
   "metadata": {},
   "outputs": [],
   "source": [
    "YEAR = \"2013\"\n",
    "RESULTS_DIR = os.path.join(BASE_RESULTS_DIR, YEAR)"
   ]
  },
  {
   "cell_type": "code",
   "execution_count": null,
   "id": "16cd5929-b530-4078-9d08-7e254f4c978c",
   "metadata": {},
   "outputs": [],
   "source": [
    "df = pd.read_csv(os.path.join(RESULTS_DIR, 'embeddings.csv'), index_col=0)\n",
    "df.head()"
   ]
  },
  {
   "cell_type": "code",
   "execution_count": null,
   "id": "9b327c57-bc35-49ff-a29f-ca10e6819829",
   "metadata": {},
   "outputs": [],
   "source": [
    "dim = dg.DimenGenerator(df)\n",
    "dimensions = dim.generate_dimensions_from_seeds([(\"democrats\", \"Conservative\")])\n",
    "scores = dg.score_embedding(df, zip([\"dem_rep\"], dimensions))\n",
    "scores.head(5)"
   ]
  },
  {
   "cell_type": "code",
   "execution_count": null,
   "id": "c0e3a307-3bc9-4443-9854-361eeb379a6f",
   "metadata": {},
   "outputs": [],
   "source": [
    "fasttext = [x for x in scores.sort_values('dem_rep').index]\n",
    "fasttext"
   ]
  },
  {
   "cell_type": "code",
   "execution_count": null,
   "id": "96dd5e66-708e-45a2-8c52-a60ebb6114ed",
   "metadata": {},
   "outputs": [],
   "source": [
    "waller = [\n",
    "    'democrats',\n",
    "    'EnoughLibertarianSpam',\n",
    "    'hillaryclinton',\n",
    "    'progressive',\n",
    "    'BlueMidterm2018',\n",
    "    'Enough_Sanders_Spam',\n",
    "    'badwomensanatomy',\n",
    "    'racism',\n",
    "    'GunsAreCool',\n",
    "    'Christians',\n",
    "    'The_Farage',\n",
    "    'new_right',\n",
    "    'conservatives',\n",
    "    'metacanada',\n",
    "    'NoFapChristians',\n",
    "    'TrueChristian',\n",
    "    'The_Donald',\n",
    "    'Conservative'\n",
    "]\n",
    "\n",
    "waller = [s for s in waller if s in fasttext]"
   ]
  },
  {
   "cell_type": "code",
   "execution_count": null,
   "id": "2baf6a34-4176-400e-aeab-c9647a6ea0a3",
   "metadata": {},
   "outputs": [],
   "source": [
    "rankings = []\n",
    "for i,e in enumerate(waller):\n",
    "    rankings.append({\"Model\": [\"waller\", \"fasttext\"], \"Rank\": [i+1, fasttext.index(e) + 1], \"Subreddit\": e})"
   ]
  },
  {
   "cell_type": "code",
   "execution_count": null,
   "id": "17ef415b-736a-4b0e-bc79-aa19eeea6c12",
   "metadata": {},
   "outputs": [],
   "source": [
    "def plot_bumpchart(elements):\n",
    "    fig, ax = plt.subplots(figsize=(12,6))\n",
    "    for element in elements:\n",
    "        ax.plot(element[\"Model\"], \n",
    "              element[\"Rank\"], \n",
    "              \"o-\", # format of marker / format of line\n",
    "              markerfacecolor=\"white\",\n",
    "              linewidth=3)\n",
    "\n",
    "        ax.annotate(element[\"Subreddit\"], \n",
    "                     xy = (\"fasttext\", element[\"Rank\"][1]),\n",
    "                    xytext = (1.01, element[\"Rank\"][1])\n",
    "\n",
    "                   )\n",
    "\n",
    "        ax.annotate(element[\"Subreddit\"], \n",
    "                    xy=(\"waller\", element[\"Rank\"][0]),\n",
    "                    xytext=(-0.3, element[\"Rank\"][0])\n",
    "\n",
    "                   )\n",
    "\n",
    "\n",
    "    plt.gca().invert_yaxis() # Para orden decreciente\n",
    "    plt.yticks([i for i in range(1, len(waller)+1) ]); # Para marcar todos los ticks\n",
    "\n",
    "    # Add axis labels and a title\n",
    "    ax.set_xlabel('Model')\n",
    "    ax.set_ylabel('Rank')\n",
    "    ax.set_title('Comparison of Models on Subreddit Classification Task')\n",
    "\n",
    "    # Elimina los bordes\n",
    "    for spine in ax.spines.values():\n",
    "        spine.set_visible(False)\n",
    "    plt.tight_layout()\n",
    "    plt.savefig(os.path.join(RESULTS_DIR, f'rankings_comparison_{YEAR}.png'), dpi=300, bbox_inches='tight')"
   ]
  },
  {
   "cell_type": "code",
   "execution_count": null,
   "id": "a105e03c-3140-4eff-bd3b-3ca2b6608166",
   "metadata": {},
   "outputs": [],
   "source": [
    "plot_bumpchart(rankings)"
   ]
  }
 ],
 "metadata": {
  "kernelspec": {
   "display_name": "Python 3 (ipykernel)",
   "language": "python",
   "name": "python3"
  },
  "language_info": {
   "codemirror_mode": {
    "name": "ipython",
    "version": 3
   },
   "file_extension": ".py",
   "mimetype": "text/x-python",
   "name": "python",
   "nbconvert_exporter": "python",
   "pygments_lexer": "ipython3",
   "version": "3.11.2"
  }
 },
 "nbformat": 4,
 "nbformat_minor": 5
}
